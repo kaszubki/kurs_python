{
 "cells": [
  {
   "cell_type": "code",
   "execution_count": 15,
   "metadata": {
    "collapsed": true
   },
   "outputs": [],
   "source": [
    "import llist"
   ]
  },
  {
   "cell_type": "code",
   "execution_count": 3,
   "metadata": {
    "collapsed": false
   },
   "outputs": [
    {
     "name": "stdout",
     "output_type": "stream",
     "text": [
      "A B C\n"
     ]
    }
   ],
   "source": [
    "#wczytaj stan startowy\n",
    "stan_s = raw_input()"
   ]
  },
  {
   "cell_type": "code",
   "execution_count": 5,
   "metadata": {
    "collapsed": false
   },
   "outputs": [
    {
     "name": "stdout",
     "output_type": "stream",
     "text": [
      "AB CD --\n"
     ]
    }
   ],
   "source": [
    "#wczytaj stany końcowe\n",
    "stan_k = raw_input()\n",
    "stan_k = stan_k.split(\" \")"
   ]
  },
  {
   "cell_type": "code",
   "execution_count": 20,
   "metadata": {
    "collapsed": false
   },
   "outputs": [
    {
     "name": "stdout",
     "output_type": "stream",
     "text": [
      "A 0 A 1 L\n",
      "A 0 A 1 L\n",
      "A 2 A 1 R\n",
      "\n"
     ]
    }
   ],
   "source": [
    "#wczytaj funkcje przejścia\n",
    "przejscia = {}\n",
    "\n",
    "while True:\n",
    "    s = raw_input()\n",
    "    if s == \"\":\n",
    "        break\n",
    "    s = s.split(\" \")\n",
    "    s1 = (s[0], s[1])\n",
    "    s2 = (s[2], s[3], s[4])\n",
    "    if przejscia.get(s1) is None:\n",
    "        przejscia[s1] = [s2]\n",
    "    else:\n",
    "        przejscia[s1].append(s2)"
   ]
  },
  {
   "cell_type": "code",
   "execution_count": 3,
   "metadata": {
    "collapsed": false
   },
   "outputs": [],
   "source": [
    "#wczytaj taśmę\n",
    "s = raw_input()\n",
    "i = 0\n",
    "while s[i] == '-':\n",
    "    i += 1\n",
    "s = s[i:]\n",
    "tasma = llist.dllist()\n",
    "for c in s:\n",
    "    tasma.appenend"
   ]
  },
  {
   "cell_type": "code",
   "execution_count": 16,
   "metadata": {
    "collapsed": false
   },
   "outputs": [
    {
     "name": "stdout",
     "output_type": "stream",
     "text": [
      "dllist([0, 1, 2])\n"
     ]
    }
   ],
   "source": [
    "l = llist.dllist()\n",
    "l.append(1)\n",
    "l.appendleft(0)\n",
    "l.appendright(2)\n",
    "print l"
   ]
  },
  {
   "cell_type": "code",
   "execution_count": 19,
   "metadata": {
    "collapsed": false
   },
   "outputs": [
    {
     "ename": "IndexError",
     "evalue": "Index out of range",
     "output_type": "error",
     "traceback": [
      "\u001b[1;31m---------------------------------------------------------------------------\u001b[0m",
      "\u001b[1;31mIndexError\u001b[0m                                Traceback (most recent call last)",
      "\u001b[1;32m<ipython-input-19-297534cddaa1>\u001b[0m in \u001b[0;36m<module>\u001b[1;34m()\u001b[0m\n\u001b[1;32m----> 1\u001b[1;33m \u001b[0ml\u001b[0m\u001b[1;33m[\u001b[0m\u001b[1;36m3\u001b[0m\u001b[1;33m]\u001b[0m\u001b[1;33m\u001b[0m\u001b[0m\n\u001b[0m",
      "\u001b[1;31mIndexError\u001b[0m: Index out of range"
     ]
    }
   ],
   "source": [
    "l[3]"
   ]
  }
 ],
 "metadata": {
  "kernelspec": {
   "display_name": "Python 2",
   "language": "python",
   "name": "python2"
  },
  "language_info": {
   "codemirror_mode": {
    "name": "ipython",
    "version": 2
   },
   "file_extension": ".py",
   "mimetype": "text/x-python",
   "name": "python",
   "nbconvert_exporter": "python",
   "pygments_lexer": "ipython2",
   "version": "2.7.6"
  }
 },
 "nbformat": 4,
 "nbformat_minor": 0
}
