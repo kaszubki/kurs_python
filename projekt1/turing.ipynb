{
 "cells": [
  {
   "cell_type": "code",
   "execution_count": 1,
   "metadata": {
    "collapsed": false
   },
   "outputs": [],
   "source": [
    "class TuringMachine(object):\n",
    "    def read(self):\n",
    "        self.history = []\n",
    "        start_state = raw_input()\n",
    "        \n",
    "        s = raw_input()\n",
    "        self.end_states = s.split(\" \")\n",
    "        \n",
    "        self.transitions = {}\n",
    "        while True:\n",
    "            s = raw_input()\n",
    "            if s == \"\":\n",
    "                break\n",
    "            s = s.split(\" \")\n",
    "            s1 = (s[0], s[1])\n",
    "            s2 = (s[2], s[3], s[4])\n",
    "            if self.transitions.get(s1) is None:\n",
    "                self.transitions[s1] = [s2]\n",
    "            else:\n",
    "                self.transitions[s1].append(s2)\n",
    "        \n",
    "        tape = raw_input()\n",
    "        position = 0\n",
    "        while tape[position] == '-':\n",
    "            position += 1\n",
    "        \n",
    "        self.history.append((start_state, position, tape))\n",
    "        self.time = 0\n",
    "        return\n",
    "    \n",
    "    def step(self):\n",
    "        state, pos, tape = self.history[-1]\n",
    "        \n",
    "        if state in self.end_states:\n",
    "            print \"My work here is done\"\n",
    "            return False\n",
    "        \n",
    "        state2, ple, move = self.transitions[(state, tape[pos])][0]\n",
    "        tape2 = tape[:pos] + ple + tape[pos+1:]\n",
    "        \n",
    "        pos2 = pos\n",
    "        if move == \"R\":\n",
    "            pos2 += 1\n",
    "        elif move == \"L\":\n",
    "            pos2 -= 1\n",
    "        \n",
    "        if pos2 == -1:\n",
    "            tape2 = \"-\" + tape2\n",
    "            pos2 = 0\n",
    "            \n",
    "        if pos2 == len(tape2):\n",
    "            tape2 = tape2 + \"-\"\n",
    "        \n",
    "        self.history.append((state2, pos2, tape2))\n",
    "        self.time += 1\n",
    "        return True\n",
    "    \n",
    "    def forward(self):\n",
    "        if self.time < len(self.history) - 1:\n",
    "            self.time += 1\n",
    "            return True\n",
    "        return self.step()\n",
    "    \n",
    "    def backward(self):\n",
    "        if self.time == 0:\n",
    "            print \"Already at the beginning, can't go back in time\"\n",
    "            return\n",
    "        self.time -= 1\n",
    "        return\n",
    "    \n",
    "    def show(self):\n",
    "        print \"Tape: {0}\".format(self.history[self.time][2])\n",
    "        print \"Position: {0}\".format(self.history[self.time][1])\n",
    "        print \"State: {0}\".format(self.history[self.time][0])\n",
    "        if self.history[self.time][0] in self.end_states:\n",
    "            print \"This is a final state\"\n",
    "        return"
   ]
  },
  {
   "cell_type": "code",
   "execution_count": 2,
   "metadata": {
    "collapsed": false
   },
   "outputs": [
    {
     "name": "stdout",
     "output_type": "stream",
     "text": [
      "A\n",
      "B\n",
      "A 0 A 1 R\n",
      "A 1 A 0 R\n",
      "A - B - S\n",
      "\n",
      "01101100011\n",
      "Tape: 01101100011\n",
      "Position: 0\n",
      "State: A\n"
     ]
    }
   ],
   "source": [
    "maszynka = TuringMachine()\n",
    "maszynka.read()\n",
    "maszynka.show()"
   ]
  },
  {
   "cell_type": "code",
   "execution_count": 3,
   "metadata": {
    "collapsed": false
   },
   "outputs": [
    {
     "name": "stdout",
     "output_type": "stream",
     "text": [
      "Tape: 11101100011\n",
      "Position: 1\n",
      "State: A\n"
     ]
    }
   ],
   "source": [
    "maszynka.forward()\n",
    "maszynka.show()"
   ]
  },
  {
   "cell_type": "code",
   "execution_count": 4,
   "metadata": {
    "collapsed": false
   },
   "outputs": [
    {
     "name": "stdout",
     "output_type": "stream",
     "text": [
      "Tape: 01101100011\n",
      "Position: 0\n",
      "State: A\n"
     ]
    }
   ],
   "source": [
    "maszynka.backward()\n",
    "maszynka.show()"
   ]
  }
 ],
 "metadata": {
  "kernelspec": {
   "display_name": "Python 2",
   "language": "python",
   "name": "python2"
  },
  "language_info": {
   "codemirror_mode": {
    "name": "ipython",
    "version": 2
   },
   "file_extension": ".py",
   "mimetype": "text/x-python",
   "name": "python",
   "nbconvert_exporter": "python",
   "pygments_lexer": "ipython2",
   "version": "2.7.6"
  }
 },
 "nbformat": 4,
 "nbformat_minor": 0
}
