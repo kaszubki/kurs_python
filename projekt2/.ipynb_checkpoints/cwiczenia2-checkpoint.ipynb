{
 "cells": [
  {
   "cell_type": "code",
   "execution_count": null,
   "metadata": {
    "collapsed": false
   },
   "outputs": [],
   "source": [
    "# -*- coding: utf-8 -*-\n",
    "%matplotlib inline\n",
    "import pandas as pa\n",
    "import numpy as np\n",
    "import matplotlib\n",
    "import matplotlib.pyplot as plt\n",
    "import unicodedata\n",
    "import pylab\n",
    "import sys\n",
    "from __future__ import unicode_literals\n",
    "pylab.rcParams['figure.figsize'] = (17.0, 11.0)\n",
    "matplotlib.rcParams['savefig.dpi'] = 250"
   ]
  },
  {
   "cell_type": "code",
   "execution_count": null,
   "metadata": {
    "collapsed": false
   },
   "outputs": [],
   "source": [
    "data = pa.read_csv('wybory-2015-obwody.csv', low_memory=False, encoding=\"utf8\")"
   ]
  },
  {
   "cell_type": "code",
   "execution_count": null,
   "metadata": {
    "collapsed": false
   },
   "outputs": [],
   "source": [
    "data.describe()"
   ]
  },
  {
   "cell_type": "code",
   "execution_count": null,
   "metadata": {
    "collapsed": false
   },
   "outputs": [],
   "source": [
    "#popraw blad w csvce (sa 2 komitety o numerze 16)\n",
    "colnames = list(data.columns)\n",
    "colnames[-1] = colnames[-1].replace(\"6\", \"7\")\n",
    "data.columns = colnames"
   ]
  },
  {
   "cell_type": "code",
   "execution_count": null,
   "metadata": {
    "collapsed": false
   },
   "outputs": [],
   "source": [
    "for i in xrange(len(colnames)):\n",
    "    s = \"{0} : {1}\".format(i, colnames[i])\n",
    "    print s"
   ]
  },
  {
   "cell_type": "code",
   "execution_count": null,
   "metadata": {
    "collapsed": true
   },
   "outputs": [],
   "source": [
    "data.fillna(0, inplace=True)"
   ]
  },
  {
   "cell_type": "code",
   "execution_count": null,
   "metadata": {
    "collapsed": false
   },
   "outputs": [],
   "source": [
    "adresy = data[\"Adres\"]"
   ]
  },
  {
   "cell_type": "code",
   "execution_count": null,
   "metadata": {
    "collapsed": false
   },
   "outputs": [],
   "source": [
    "moj_adres = [i for i in xrange(len(adresy)) if (adresy[i].find(\"Warszawa\") != -1) and (adresy[i].find(\"Hirszfelda\") != -1)]"
   ]
  },
  {
   "cell_type": "code",
   "execution_count": null,
   "metadata": {
    "collapsed": true
   },
   "outputs": [],
   "source": [
    "def get_int(s):\n",
    "    if isinstance(s, int):\n",
    "        return s\n",
    "    if isinstance(s, float):\n",
    "        return (int)(s)\n",
    "    return (int)(str(s).replace(\",\", \"\"))"
   ]
  },
  {
   "cell_type": "code",
   "execution_count": null,
   "metadata": {
    "collapsed": false
   },
   "outputs": [],
   "source": [
    "def plot_subset_of_regions(regiony, partie=range(1, 18), savefile=None, title=None, color=\"orange\", warunek=(lambda x: True)):\n",
    "    glosy = []\n",
    "    komitety = []\n",
    "    for i in partie:\n",
    "        id_partii = i + 27\n",
    "        komitet = colnames[id_partii]\n",
    "        ile = sum(get_int(data[colnames[id_partii]][region])\n",
    "                  for region in regiony\n",
    "                  if warunek(region))\n",
    "        glosy.append(ile)\n",
    "        komitety.append(komitet)\n",
    "        #print \"Liczba glosow na komitet {0} wyniosła {1}\".format(komitet, ile)\n",
    "    \n",
    "    max_y = 100\n",
    "    while max_y <= max(glosy):\n",
    "        max_y *= 10\n",
    "    s = max_y / 20\n",
    "    while max_y >= max(glosy) + s:\n",
    "        max_y -= s\n",
    "    \n",
    "    pylab.rcParams['figure.figsize'] = (len(partie), 11)\n",
    "    \n",
    "    plot_width, plot_height = pylab.rcParams['figure.figsize']\n",
    "    \n",
    "    sq_len = (float(max_y)/(plot_height - 1.0)) * 0.8\n",
    "    \n",
    "    fig = plt.figure()\n",
    "    ax = fig.add_subplot(111)\n",
    "    if title is not None:\n",
    "        plt.title(title)\n",
    "        \n",
    "    plt.xlabel(\"Partie kandydujące\", labelpad=50)\n",
    "    plt.ylabel(\"Liczba głosów\")\n",
    "    ax.bar(range(len(glosy)), glosy, color=color, edgecolor=color)\n",
    "    #ax.set_axis_bgcolor('lightgray')\n",
    "    ax.axis((0, len(glosy), 0, max_y))\n",
    "    ax.get_xaxis().set_ticks([0.4 + i for i in xrange(len(glosy))])\n",
    "    ax.get_xaxis().set_ticklabels([])\n",
    "    ax.get_yaxis().set_ticks([i for i in xrange(0, max_y + 1, max_y/20)])\n",
    "    \n",
    "    #chcemy, zeby ticksy na osiach ladnie wygladaly\n",
    "    plt.tick_params(axis='x',\n",
    "                    which='both',\n",
    "                    bottom='off',\n",
    "                    top='off')\n",
    "    ax.get_yaxis().set_tick_params(direction='inout')\n",
    "    ax.get_yaxis().tick_left()\n",
    "    ax.spines['top'].set_visible(False)\n",
    "    ax.spines['right'].set_visible(False)\n",
    "\n",
    "    #pokaz liczbe glosow nad barem\n",
    "    for rect in ax.patches:\n",
    "        rect.set_x(rect.get_x() + 0.1)\n",
    "    \n",
    "    for rect, ile in zip(ax.patches, glosy):\n",
    "        height = rect.get_height()\n",
    "        ax.text(rect.get_x()+rect.get_width()/2, \n",
    "                height+sq_len*0.2, \n",
    "                ile, \n",
    "                ha='center', \n",
    "                va='bottom')\n",
    "        ax.text(rect.get_x()+rect.get_width()/2, \n",
    "                height+sq_len*0.5, \n",
    "                \"{0:.2f}%\".format((ile+0.0)/sum(glosy)*100.0), \n",
    "                ha='center', \n",
    "                va='bottom',\n",
    "                color=\"darkgreen\")\n",
    "    \n",
    "    #pokaz logo partii jako label pod barem\n",
    "    for i in xrange(len(partie)):\n",
    "        cirkul = matplotlib.patches.Rectangle((i + 0.1, -sq_len * 1.05),\n",
    "                                              width=0.8,\n",
    "                                              height=sq_len,\n",
    "                                              color=\"white\")\n",
    "        nazwa = \"logo/partia\" + str(partie[i]) + \".png\"\n",
    "        bbox_image = matplotlib.image.BboxImage(cirkul.get_window_extent, clip_on=False, norm = None, origin=None)\n",
    "        bbox_image.set_data(matplotlib.image.imread(nazwa))\n",
    "        ax.add_artist(bbox_image)\n",
    "        ax.add_patch(cirkul)\n",
    "        \n",
    "    if savefile is not None:\n",
    "        plt.savefig(savefile, dpi=fig.dpi)\n",
    "    else:\n",
    "        plt.show()\n",
    "    return"
   ]
  },
  {
   "cell_type": "code",
   "execution_count": null,
   "metadata": {
    "collapsed": false
   },
   "outputs": [],
   "source": [
    "plot_subset_of_regions(regiony=range(len(data)), \n",
    "                       savefile=\"nowoczesnalepszaodpo.png\", \n",
    "                       color=\"blue\", \n",
    "                       title=\"Wyniki wyborów w okręgach, gdzie Nowoczesna wygrała z PO\",\n",
    "                       warunek=(lambda x: (get_int(data[colnames[29]][x]) <= get_int(data[colnames[35]][x]))))"
   ]
  },
  {
   "cell_type": "code",
   "execution_count": null,
   "metadata": {
    "collapsed": false
   },
   "outputs": [],
   "source": [
    "plot_subset_of_regions(regiony=range(len(data)), \n",
    "                       savefile=\"psllepszeodkukiza.png\", \n",
    "                       color=\"lightgreen\", \n",
    "                       title=\"Wyniki wyborów w okręgach, gdzie PSL wygrało z Kukiz'15\",\n",
    "                       warunek=(lambda x: (get_int(data[colnames[34]][x]) <= get_int(data[colnames[32]][x]))))"
   ]
  },
  {
   "cell_type": "code",
   "execution_count": null,
   "metadata": {
    "collapsed": false
   },
   "outputs": [],
   "source": [
    "plot_subset_of_regions(regiony=moj_adres, \n",
    "                       savefile=\"pispo.png\", \n",
    "                       color=\"brown\",\n",
    "                       title=\"Wyniki wyborów w moim okręgu\",\n",
    "                       partie=[1,2,3])"
   ]
  },
  {
   "cell_type": "code",
   "execution_count": null,
   "metadata": {
    "collapsed": false
   },
   "outputs": [],
   "source": [
    "plot_subset_of_regions(regiony=[i for i in xrange(len(adresy)) if (adresy[i].find(\"Kraków\") != -1)], \n",
    "                       savefile=\"krakow.png\", \n",
    "                       color=\"pink\", \n",
    "                       title=\"Wyniki wyborów w Krakowie\")"
   ]
  },
  {
   "cell_type": "code",
   "execution_count": null,
   "metadata": {
    "collapsed": false
   },
   "outputs": [],
   "source": [
    "komitety2 = [komitety[i] for i in xrange(len(glosy)) if glosy[i] != 0]\n",
    "glosy2 = [glosy[i] for i in xrange(len(glosy)) if glosy[i] != 0]\n",
    "\n",
    "glosy2[-1], glosy2[1] = glosy2[1], glosy2[-1]\n",
    "komitety2[-1], komitety2[1] = komitety2[1], komitety2[-1]\n",
    "\n",
    "explode = [0.15] * len(glosy2)\n",
    "plt.pie(glosy2, \n",
    "        explode=explode, \n",
    "        labels=[x[1:3] for x in komitety2], \n",
    "        autopct='%1.1f%%', \n",
    "        startangle=130, \n",
    "        pctdistance=1.35, \n",
    "        labeldistance=1.15)\n",
    "plt.legend(komitety2, bbox_to_anchor=(2.5, 2.5))\n",
    "plt.show()"
   ]
  }
 ],
 "metadata": {
  "kernelspec": {
   "display_name": "Python 2",
   "language": "python",
   "name": "python2"
  }
 },
 "nbformat": 4,
 "nbformat_minor": 0
}
